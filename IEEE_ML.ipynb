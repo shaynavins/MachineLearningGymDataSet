{
  "nbformat": 4,
  "nbformat_minor": 0,
  "metadata": {
    "colab": {
      "provenance": [],
      "authorship_tag": "ABX9TyOcN7zMzErh9vkIDbET2FQl",
      "include_colab_link": true
    },
    "kernelspec": {
      "name": "python3",
      "display_name": "Python 3"
    },
    "language_info": {
      "name": "python"
    }
  },
  "cells": [
    {
      "cell_type": "markdown",
      "metadata": {
        "id": "view-in-github",
        "colab_type": "text"
      },
      "source": [
        "<a href=\"https://colab.research.google.com/github/shaynavins/MachineLearningGymDataSet/blob/main/IEEE_ML.ipynb\" target=\"_parent\"><img src=\"https://colab.research.google.com/assets/colab-badge.svg\" alt=\"Open In Colab\"/></a>"
      ]
    },
    {
      "cell_type": "markdown",
      "source": [
        "The cells are somewhat interconnected at points, so ensure to run the cells in an orderly manner.\n",
        "\n",
        "ALSO NOTE THAT ALL THE TASKS ARE DONE, HOWEVER THE ORDER IS SLIGHTLY OFF DUE TO THE ORDER AT WHICH I LEARNT A FEW NEW CONCEPTS. SORRY FOR THIS INCONVENIENCE."
      ],
      "metadata": {
        "id": "sFmqzIzmV2_y"
      }
    },
    {
      "cell_type": "code",
      "execution_count": 81,
      "metadata": {
        "colab": {
          "base_uri": "https://localhost:8080/"
        },
        "id": "XMRVwHxmmlMp",
        "outputId": "4b29e40f-ed80-44a9-d774-ced88d8b52a5"
      },
      "outputs": [
        {
          "output_type": "stream",
          "name": "stdout",
          "text": [
            "Requirement already satisfied: gspread==5.4.0 in /usr/local/lib/python3.10/dist-packages (5.4.0)\n",
            "Requirement already satisfied: camelot-py in /usr/local/lib/python3.10/dist-packages (1.0.0)\n",
            "Requirement already satisfied: google-auth>=1.12.0 in /usr/local/lib/python3.10/dist-packages (from gspread==5.4.0) (2.27.0)\n",
            "Requirement already satisfied: google-auth-oauthlib>=0.4.1 in /usr/local/lib/python3.10/dist-packages (from gspread==5.4.0) (1.2.1)\n",
            "Requirement already satisfied: click>=8.0.1 in /usr/local/lib/python3.10/dist-packages (from camelot-py) (8.1.8)\n",
            "Requirement already satisfied: chardet>=5.1.0 in /usr/local/lib/python3.10/dist-packages (from camelot-py) (5.2.0)\n",
            "Requirement already satisfied: numpy>=1.24.4 in /usr/local/lib/python3.10/dist-packages (from camelot-py) (1.26.4)\n",
            "Requirement already satisfied: openpyxl>=3.1.0 in /usr/local/lib/python3.10/dist-packages (from camelot-py) (3.1.5)\n",
            "Requirement already satisfied: pdfminer-six>=20240706 in /usr/local/lib/python3.10/dist-packages (from camelot-py) (20240706)\n",
            "Requirement already satisfied: pypdf<4.0,>=3.17 in /usr/local/lib/python3.10/dist-packages (from camelot-py) (3.17.4)\n",
            "Requirement already satisfied: pandas>=2.2.2 in /usr/local/lib/python3.10/dist-packages (from camelot-py) (2.2.2)\n",
            "Requirement already satisfied: tabulate>=0.9.0 in /usr/local/lib/python3.10/dist-packages (from camelot-py) (0.9.0)\n",
            "Requirement already satisfied: typing-extensions>=4.12.2 in /usr/local/lib/python3.10/dist-packages (from camelot-py) (4.12.2)\n",
            "Requirement already satisfied: opencv-python-headless>=4.7.0.68 in /usr/local/lib/python3.10/dist-packages (from camelot-py) (4.10.0.84)\n",
            "Requirement already satisfied: pypdfium2>=4 in /usr/local/lib/python3.10/dist-packages (from camelot-py) (4.30.1)\n",
            "Requirement already satisfied: cachetools<6.0,>=2.0.0 in /usr/local/lib/python3.10/dist-packages (from google-auth>=1.12.0->gspread==5.4.0) (5.5.0)\n",
            "Requirement already satisfied: pyasn1-modules>=0.2.1 in /usr/local/lib/python3.10/dist-packages (from google-auth>=1.12.0->gspread==5.4.0) (0.4.1)\n",
            "Requirement already satisfied: rsa<5,>=3.1.4 in /usr/local/lib/python3.10/dist-packages (from google-auth>=1.12.0->gspread==5.4.0) (4.9)\n",
            "Requirement already satisfied: requests-oauthlib>=0.7.0 in /usr/local/lib/python3.10/dist-packages (from google-auth-oauthlib>=0.4.1->gspread==5.4.0) (1.3.1)\n",
            "Requirement already satisfied: et-xmlfile in /usr/local/lib/python3.10/dist-packages (from openpyxl>=3.1.0->camelot-py) (2.0.0)\n",
            "Requirement already satisfied: python-dateutil>=2.8.2 in /usr/local/lib/python3.10/dist-packages (from pandas>=2.2.2->camelot-py) (2.8.2)\n",
            "Requirement already satisfied: pytz>=2020.1 in /usr/local/lib/python3.10/dist-packages (from pandas>=2.2.2->camelot-py) (2024.2)\n",
            "Requirement already satisfied: tzdata>=2022.7 in /usr/local/lib/python3.10/dist-packages (from pandas>=2.2.2->camelot-py) (2024.2)\n",
            "Requirement already satisfied: charset-normalizer>=2.0.0 in /usr/local/lib/python3.10/dist-packages (from pdfminer-six>=20240706->camelot-py) (3.4.1)\n",
            "Requirement already satisfied: cryptography>=36.0.0 in /usr/local/lib/python3.10/dist-packages (from pdfminer-six>=20240706->camelot-py) (43.0.3)\n",
            "Requirement already satisfied: cffi>=1.12 in /usr/local/lib/python3.10/dist-packages (from cryptography>=36.0.0->pdfminer-six>=20240706->camelot-py) (1.17.1)\n",
            "Requirement already satisfied: pyasn1<0.7.0,>=0.4.6 in /usr/local/lib/python3.10/dist-packages (from pyasn1-modules>=0.2.1->google-auth>=1.12.0->gspread==5.4.0) (0.6.1)\n",
            "Requirement already satisfied: six>=1.5 in /usr/local/lib/python3.10/dist-packages (from python-dateutil>=2.8.2->pandas>=2.2.2->camelot-py) (1.17.0)\n",
            "Requirement already satisfied: oauthlib>=3.0.0 in /usr/local/lib/python3.10/dist-packages (from requests-oauthlib>=0.7.0->google-auth-oauthlib>=0.4.1->gspread==5.4.0) (3.2.2)\n",
            "Requirement already satisfied: requests>=2.0.0 in /usr/local/lib/python3.10/dist-packages (from requests-oauthlib>=0.7.0->google-auth-oauthlib>=0.4.1->gspread==5.4.0) (2.32.3)\n",
            "Requirement already satisfied: pycparser in /usr/local/lib/python3.10/dist-packages (from cffi>=1.12->cryptography>=36.0.0->pdfminer-six>=20240706->camelot-py) (2.22)\n",
            "Requirement already satisfied: idna<4,>=2.5 in /usr/local/lib/python3.10/dist-packages (from requests>=2.0.0->requests-oauthlib>=0.7.0->google-auth-oauthlib>=0.4.1->gspread==5.4.0) (3.10)\n",
            "Requirement already satisfied: urllib3<3,>=1.21.1 in /usr/local/lib/python3.10/dist-packages (from requests>=2.0.0->requests-oauthlib>=0.7.0->google-auth-oauthlib>=0.4.1->gspread==5.4.0) (2.3.0)\n",
            "Requirement already satisfied: certifi>=2017.4.17 in /usr/local/lib/python3.10/dist-packages (from requests>=2.0.0->requests-oauthlib>=0.7.0->google-auth-oauthlib>=0.4.1->gspread==5.4.0) (2024.12.14)\n"
          ]
        }
      ],
      "source": [
        "!pip install gspread==5.4.0 camelot-py"
      ]
    },
    {
      "cell_type": "code",
      "source": [
        "#reading and loading the google sheets. this requires authentication\n",
        "from pydrive.auth import GoogleAuth\n",
        "from pydrive.drive import GoogleDrive\n",
        "from google.colab import auth, files\n",
        "from oauth2client.client import GoogleCredentials\n",
        "\n",
        "auth.authenticate_user()\n",
        "\n",
        "gauth = GoogleAuth()\n",
        "\n",
        "gauth.credentials = GoogleCredentials.get_application_default()\n",
        "\n",
        "drive = GoogleDrive(gauth)"
      ],
      "metadata": {
        "id": "vNZ0Rzonmy7v"
      },
      "execution_count": 84,
      "outputs": []
    },
    {
      "cell_type": "code",
      "source": [
        "import gspread\n",
        "from google.auth import default\n",
        "\n",
        "auth.authenticate_user()\n",
        "creds, _=default()"
      ],
      "metadata": {
        "id": "CjSzaDlYnetL"
      },
      "execution_count": 83,
      "outputs": []
    },
    {
      "cell_type": "code",
      "source": [
        "#a few of the imports\n",
        "import pandas as pd\n",
        "import numpy as np"
      ],
      "metadata": {
        "id": "bp5XxQfrnl4x"
      },
      "execution_count": 85,
      "outputs": []
    },
    {
      "cell_type": "code",
      "source": [
        "access = gspread.authorize(creds)\n",
        "wb = access.open_by_key('1coG4L09pbFmHXQ3LiXQq_gItQ-Kk9WfpTteus0SqmNY')\n",
        "\n",
        "sheet = wb.get_worksheet_by_id(1695310736)\n",
        "\n",
        "#loading the data and converting into data frames\n",
        "data = sheet.get_all_records()\n",
        "df = pd.DataFrame(data)\n",
        "columnnames = df.columns\n",
        "\n",
        "\n",
        "\n",
        "print(\"FIRST 5 ROWS:\")\n",
        "print(df[:5])\n",
        "\n",
        "print(\"COLUMN NAMES\")\n",
        "print(columnnames)\n",
        "\n",
        "print(\"NUMBER OF ROWS AND COLUMNS\")\n",
        "rows, columns = df.shape\n",
        "print(f\"Rows: {rows}, Columns: {columns}\")\n",
        "\n",
        "\n",
        "\n"
      ],
      "metadata": {
        "colab": {
          "base_uri": "https://localhost:8080/"
        },
        "id": "GF8dKm4snpx1",
        "outputId": "1c2915f8-f7f5-4472-9286-69da2b9cf0d5"
      },
      "execution_count": 86,
      "outputs": [
        {
          "output_type": "stream",
          "name": "stdout",
          "text": [
            "FIRST 5 ROWS:\n",
            "                             Title  \\\n",
            "0  0        Partner plank band row   \n",
            "1  1  Banded crunch isometric hold   \n",
            "2  2         FYR Banded Plank Jack   \n",
            "3  3                 Banded crunch   \n",
            "4  4                        Crunch   \n",
            "\n",
            "                                                Desc      Type    BodyPart  \\\n",
            "0  The partner plank band row is an abdominal exe...  Strength  Abdominals   \n",
            "1  The banded crunch isometric hold is an exercis...  Strength  Abdominals   \n",
            "2  The banded plank jack is a variation on the pl...  Strength  Abdominals   \n",
            "3  The banded crunch is an exercise targeting the...  Strength  Abdominals   \n",
            "4  The crunch is a popular core exercise targetin...  Strength  Abdominals   \n",
            "\n",
            "  Equipment         Level Rating RatingDesc  \n",
            "0     Bands  Intermediate      0             \n",
            "1     Bands  Intermediate                    \n",
            "2     Bands  Intermediate                    \n",
            "3     Bands  Intermediate                    \n",
            "4     Bands  Intermediate                    \n",
            "COLUMN NAMES\n",
            "Index(['', 'Title', 'Desc', 'Type', 'BodyPart', 'Equipment', 'Level', 'Rating',\n",
            "       'RatingDesc'],\n",
            "      dtype='object')\n",
            "NUMBER OF ROWS AND COLUMNS\n",
            "Rows: 2918, Columns: 9\n"
          ]
        }
      ]
    },
    {
      "cell_type": "markdown",
      "source": [
        "With respect to discrepencies, it is true that there are many empty cells which are stored as empty strings and not NaN values. Hence, the following queries fail to function. Hence, we use the df.replace() function to swap out the empty strings with NaN.  "
      ],
      "metadata": {
        "id": "khxvRJrYKala"
      }
    },
    {
      "cell_type": "code",
      "source": [
        "import seaborn as sns\n",
        "import matplotlib.pyplot as plt\n",
        "\n",
        "sns.boxplot(x=df['Rating'])\n",
        "plt.show()\n",
        "df.info()\n",
        "df.describe()\n",
        "\n"
      ],
      "metadata": {
        "colab": {
          "base_uri": "https://localhost:8080/",
          "height": 1000
        },
        "collapsed": true,
        "id": "aIDNYykarbB3",
        "outputId": "feb71028-4969-43bb-99d4-536ad2e23ebe"
      },
      "execution_count": 99,
      "outputs": [
        {
          "output_type": "display_data",
          "data": {
            "text/plain": [
              "<Figure size 640x480 with 1 Axes>"
            ],
            "image/png": "[encoded data removed]"
          },
          "metadata": {}
        },
        {
          "output_type": "stream",
          "name": "stdout",
          "text": [
            "<class 'pandas.core.frame.DataFrame'>\n",
            "RangeIndex: 2918 entries, 0 to 2917\n",
            "Data columns (total 10 columns):\n",
            " #   Column           Non-Null Count  Dtype   \n",
            "---  ------           --------------  -----   \n",
            " 0                    2918 non-null   int64   \n",
            " 1   Title            2918 non-null   object  \n",
            " 2   Desc             1368 non-null   object  \n",
            " 3   Type             2918 non-null   object  \n",
            " 4   BodyPart         2918 non-null   category\n",
            " 5   Equipment        2918 non-null   category\n",
            " 6   Level            2918 non-null   object  \n",
            " 7   Rating           1031 non-null   float64 \n",
            " 8   BodyPart_codes   2918 non-null   int8    \n",
            " 9   Equipment_codes  2918 non-null   int8    \n",
            "dtypes: category(2), float64(1), int64(1), int8(2), object(4)\n",
            "memory usage: 149.6+ KB\n"
          ]
        },
        {
          "output_type": "execute_result",
          "data": {
            "text/plain": [
              "                         Rating  BodyPart_codes  Equipment_codes\n",
              "count  2918.000000  1031.000000     2918.000000      2918.000000\n",
              "mean   1458.500000     5.919690        7.947910         4.154901\n",
              "std     842.498368     3.584607        5.629641         3.454885\n",
              "min       0.000000     0.000000        0.000000         0.000000\n",
              "25%     729.250000     3.000000        3.000000         2.000000\n",
              "50%    1458.500000     7.900000        9.000000         2.000000\n",
              "75%    2187.750000     8.700000       13.000000         4.000000\n",
              "max    2917.000000     9.600000       16.000000        12.000000"
            ],
            "text/html": [
              "\n",
              "  <div id=\"df-ca1c9d85-e8cb-4eed-90ae-d723ca360330\" class=\"colab-df-container\">\n",
              "    <div>\n",
              "<style scoped>\n",
              "    .dataframe tbody tr th:only-of-type {\n",
              "        vertical-align: middle;\n",
              "    }\n",
              "\n",
              "    .dataframe tbody tr th {\n",
              "        vertical-align: top;\n",
              "    }\n",
              "\n",
              "    .dataframe thead th {\n",
              "        text-align: right;\n",
              "    }\n",
              "</style>\n",
              "<table border=\"1\" class=\"dataframe\">\n",
              "  <thead>\n",
              "    <tr style=\"text-align: right;\">\n",
              "      <th></th>\n",
              "      <th></th>\n",
              "      <th>Rating</th>\n",
              "      <th>BodyPart_codes</th>\n",
              "      <th>Equipment_codes</th>\n",
              "    </tr>\n",
              "  </thead>\n",
              "  <tbody>\n",
              "    <tr>\n",
              "      <th>count</th>\n",
              "      <td>2918.000000</td>\n",
              "      <td>1031.000000</td>\n",
              "      <td>2918.000000</td>\n",
              "      <td>2918.000000</td>\n",
              "    </tr>\n",
              "    <tr>\n",
              "      <th>mean</th>\n",
              "      <td>1458.500000</td>\n",
              "      <td>5.919690</td>\n",
              "      <td>7.947910</td>\n",
              "      <td>4.154901</td>\n",
              "    </tr>\n",
              "    <tr>\n",
              "      <th>std</th>\n",
              "      <td>842.498368</td>\n",
              "      <td>3.584607</td>\n",
              "      <td>5.629641</td>\n",
              "      <td>3.454885</td>\n",
              "    </tr>\n",
              "    <tr>\n",
              "      <th>min</th>\n",
              "      <td>0.000000</td>\n",
              "      <td>0.000000</td>\n",
              "      <td>0.000000</td>\n",
              "      <td>0.000000</td>\n",
              "    </tr>\n",
              "    <tr>\n",
              "      <th>25%</th>\n",
              "      <td>729.250000</td>\n",
              "      <td>3.000000</td>\n",
              "      <td>3.000000</td>\n",
              "      <td>2.000000</td>\n",
              "    </tr>\n",
              "    <tr>\n",
              "      <th>50%</th>\n",
              "      <td>1458.500000</td>\n",
              "      <td>7.900000</td>\n",
              "      <td>9.000000</td>\n",
              "      <td>2.000000</td>\n",
              "    </tr>\n",
              "    <tr>\n",
              "      <th>75%</th>\n",
              "      <td>2187.750000</td>\n",
              "      <td>8.700000</td>\n",
              "      <td>13.000000</td>\n",
              "      <td>4.000000</td>\n",
              "    </tr>\n",
              "    <tr>\n",
              "      <th>max</th>\n",
              "      <td>2917.000000</td>\n",
              "      <td>9.600000</td>\n",
              "      <td>16.000000</td>\n",
              "      <td>12.000000</td>\n",
              "    </tr>\n",
              "  </tbody>\n",
              "</table>\n",
              "</div>\n",
              "    <div class=\"colab-df-buttons\">\n",
              "\n",
              "  <div class=\"colab-df-container\">\n",
              "    <button class=\"colab-df-convert\" onclick=\"convertToInteractive('df-ca1c9d85-e8cb-4eed-90ae-d723ca360330')\"\n",
              "            title=\"Convert this dataframe to an interactive table.\"\n",
              "            style=\"display:none;\">\n",
              "\n",
              "  <svg xmlns=\"http://www.w3.org/2000/svg\" height=\"24px\" viewBox=\"0 -960 960 960\">\n",
              "    <path d=\"M120-120v-720h720v720H120Zm60-500h600v-160H180v160Zm220 220h160v-160H400v160Zm0 220h160v-160H400v160ZM180-400h160v-160H180v160Zm440 0h160v-160H620v160ZM180-180h160v-160H180v160Zm440 0h160v-160H620v160Z\"/>\n",
              "  </svg>\n",
              "    </button>\n",
              "\n",
              "  <style>\n",
              "    .colab-df-container {\n",
              "      display:flex;\n",
              "      gap: 12px;\n",
              "    }\n",
              "\n",
              "    .colab-df-convert {\n",
              "      background-color: #E8F0FE;\n",
              "      border: none;\n",
              "      border-radius: 50%;\n",
              "      cursor: pointer;\n",
              "      display: none;\n",
              "      fill: #1967D2;\n",
              "      height: 32px;\n",
              "      padding: 0 0 0 0;\n",
              "      width: 32px;\n",
              "    }\n",
              "\n",
              "    .colab-df-convert:hover {\n",
              "      background-color: #E2EBFA;\n",
              "      box-shadow: 0px 1px 2px rgba(60, 64, 67, 0.3), 0px 1px 3px 1px rgba(60, 64, 67, 0.15);\n",
              "      fill: #174EA6;\n",
              "    }\n",
              "\n",
              "    .colab-df-buttons div {\n",
              "      margin-bottom: 4px;\n",
              "    }\n",
              "\n",
              "    [theme=dark] .colab-df-convert {\n",
              "      background-color: #3B4455;\n",
              "      fill: #D2E3FC;\n",
              "    }\n",
              "\n",
              "    [theme=dark] .colab-df-convert:hover {\n",
              "      background-color: #434B5C;\n",
              "      box-shadow: 0px 1px 3px 1px rgba(0, 0, 0, 0.15);\n",
              "      filter: drop-shadow(0px 1px 2px rgba(0, 0, 0, 0.3));\n",
              "      fill: #FFFFFF;\n",
              "    }\n",
              "  </style>\n",
              "\n",
              "    <script>\n",
              "      const buttonEl =\n",
              "        document.querySelector('#df-ca1c9d85-e8cb-4eed-90ae-d723ca360330 button.colab-df-convert');\n",
              "      buttonEl.style.display =\n",
              "        google.colab.kernel.accessAllowed ? 'block' : 'none';\n",
              "\n",
              "      async function convertToInteractive(key) {\n",
              "        const element = document.querySelector('#df-ca1c9d85-e8cb-4eed-90ae-d723ca360330');\n",
              "        const dataTable =\n",
              "          await google.colab.kernel.invokeFunction('convertToInteractive',\n",
              "                                                    [key], {});\n",
              "        if (!dataTable) return;\n",
              "\n",
              "        const docLinkHtml = 'Like what you see? Visit the ' +\n",
              "          '<a target=\"_blank\" href=https://colab.research.google.com/notebooks/data_table.ipynb>data table notebook</a>'\n",
              "          + ' to learn more about interactive tables.';\n",
              "        element.innerHTML = '';\n",
              "        dataTable['output_type'] = 'display_data';\n",
              "        await google.colab.output.renderOutput(dataTable, element);\n",
              "        const docLink = document.createElement('div');\n",
              "        docLink.innerHTML = docLinkHtml;\n",
              "        element.appendChild(docLink);\n",
              "      }\n",
              "    </script>\n",
              "  </div>\n",
              "\n",
              "\n",
              "<div id=\"df-5fcf9432-c548-4756-afa9-a1b4ef898ed6\">\n",
              "  <button class=\"colab-df-quickchart\" onclick=\"quickchart('df-5fcf9432-c548-4756-afa9-a1b4ef898ed6')\"\n",
              "            title=\"Suggest charts\"\n",
              "            style=\"display:none;\">\n",
              "\n",
              "<svg xmlns=\"http://www.w3.org/2000/svg\" height=\"24px\"viewBox=\"0 0 24 24\"\n",
              "     width=\"24px\">\n",
              "    <g>\n",
              "        <path d=\"M19 3H5c-1.1 0-2 .9-2 2v14c0 1.1.9 2 2 2h14c1.1 0 2-.9 2-2V5c0-1.1-.9-2-2-2zM9 17H7v-7h2v7zm4 0h-2V7h2v10zm4 0h-2v-4h2v4z\"/>\n",
              "    </g>\n",
              "</svg>\n",
              "  </button>\n",
              "\n",
              "<style>\n",
              "  .colab-df-quickchart {\n",
              "      --bg-color: #E8F0FE;\n",
              "      --fill-color: #1967D2;\n",
              "      --hover-bg-color: #E2EBFA;\n",
              "      --hover-fill-color: #174EA6;\n",
              "      --disabled-fill-color: #AAA;\n",
              "      --disabled-bg-color: #DDD;\n",
              "  }\n",
              "\n",
              "  [theme=dark] .colab-df-quickchart {\n",
              "      --bg-color: #3B4455;\n",
              "      --fill-color: #D2E3FC;\n",
              "      --hover-bg-color: #434B5C;\n",
              "      --hover-fill-color: #FFFFFF;\n",
              "      --disabled-bg-color: #3B4455;\n",
              "      --disabled-fill-color: #666;\n",
              "  }\n",
              "\n",
              "  .colab-df-quickchart {\n",
              "    background-color: var(--bg-color);\n",
              "    border: none;\n",
              "    border-radius: 50%;\n",
              "    cursor: pointer;\n",
              "    display: none;\n",
              "    fill: var(--fill-color);\n",
              "    height: 32px;\n",
              "    padding: 0;\n",
              "    width: 32px;\n",
              "  }\n",
              "\n",
              "  .colab-df-quickchart:hover {\n",
              "    background-color: var(--hover-bg-color);\n",
              "    box-shadow: 0 1px 2px rgba(60, 64, 67, 0.3), 0 1px 3px 1px rgba(60, 64, 67, 0.15);\n",
              "    fill: var(--button-hover-fill-color);\n",
              "  }\n",
              "\n",
              "  .colab-df-quickchart-complete:disabled,\n",
              "  .colab-df-quickchart-complete:disabled:hover {\n",
              "    background-color: var(--disabled-bg-color);\n",
              "    fill: var(--disabled-fill-color);\n",
              "    box-shadow: none;\n",
              "  }\n",
              "\n",
              "  .colab-df-spinner {\n",
              "    border: 2px solid var(--fill-color);\n",
              "    border-color: transparent;\n",
              "    border-bottom-color: var(--fill-color);\n",
              "    animation:\n",
              "      spin 1s steps(1) infinite;\n",
              "  }\n",
              "\n",
              "  @keyframes spin {\n",
              "    0% {\n",
              "      border-color: transparent;\n",
              "      border-bottom-color: var(--fill-color);\n",
              "      border-left-color: var(--fill-color);\n",
              "    }\n",
              "    20% {\n",
              "      border-color: transparent;\n",
              "      border-left-color: var(--fill-color);\n",
              "      border-top-color: var(--fill-color);\n",
              "    }\n",
              "    30% {\n",
              "      border-color: transparent;\n",
              "      border-left-color: var(--fill-color);\n",
              "      border-top-color: var(--fill-color);\n",
              "      border-right-color: var(--fill-color);\n",
              "    }\n",
              "    40% {\n",
              "      border-color: transparent;\n",
              "      border-right-color: var(--fill-color);\n",
              "      border-top-color: var(--fill-color);\n",
              "    }\n",
              "    60% {\n",
              "      border-color: transparent;\n",
              "      border-right-color: var(--fill-color);\n",
              "    }\n",
              "    80% {\n",
              "      border-color: transparent;\n",
              "      border-right-color: var(--fill-color);\n",
              "      border-bottom-color: var(--fill-color);\n",
              "    }\n",
              "    90% {\n",
              "      border-color: transparent;\n",
              "      border-bottom-color: var(--fill-color);\n",
              "    }\n",
              "  }\n",
              "</style>\n",
              "\n",
              "  <script>\n",
              "    async function quickchart(key) {\n",
              "      const quickchartButtonEl =\n",
              "        document.querySelector('#' + key + ' button');\n",
              "      quickchartButtonEl.disabled = true;  // To prevent multiple clicks.\n",
              "      quickchartButtonEl.classList.add('colab-df-spinner');\n",
              "      try {\n",
              "        const charts = await google.colab.kernel.invokeFunction(\n",
              "            'suggestCharts', [key], {});\n",
              "      } catch (error) {\n",
              "        console.error('Error during call to suggestCharts:', error);\n",
              "      }\n",
              "      quickchartButtonEl.classList.remove('colab-df-spinner');\n",
              "      quickchartButtonEl.classList.add('colab-df-quickchart-complete');\n",
              "    }\n",
              "    (() => {\n",
              "      let quickchartButtonEl =\n",
              "        document.querySelector('#df-5fcf9432-c548-4756-afa9-a1b4ef898ed6 button');\n",
              "      quickchartButtonEl.style.display =\n",
              "        google.colab.kernel.accessAllowed ? 'block' : 'none';\n",
              "    })();\n",
              "  </script>\n",
              "</div>\n",
              "\n",
              "    </div>\n",
              "  </div>\n"
            ],
            "application/vnd.google.colaboratory.intrinsic+json": {
              "type": "dataframe",
              "summary": "{\n  \"name\": \"df\",\n  \"rows\": 8,\n  \"fields\": [\n    {\n      \"column\": \"\",\n      \"properties\": {\n        \"dtype\": \"number\",\n        \"std\": 1051.442390147602,\n        \"min\": 0.0,\n        \"max\": 2918.0,\n        \"num_unique_values\": 7,\n        \"samples\": [\n          2918.0,\n          1458.5,\n          2187.75\n        ],\n        \"semantic_type\": \"\",\n        \"description\": \"\"\n      }\n    },\n    {\n      \"column\": \"Rating\",\n      \"properties\": {\n        \"dtype\": \"number\",\n        \"std\": 362.5730944690922,\n        \"min\": 0.0,\n        \"max\": 1031.0,\n        \"num_unique_values\": 8,\n        \"samples\": [\n          5.919689621726479,\n          7.9,\n          1031.0\n        ],\n        \"semantic_type\": \"\",\n        \"description\": \"\"\n      }\n    },\n    {\n      \"column\": \"BodyPart_codes\",\n      \"properties\": {\n        \"dtype\": \"number\",\n        \"std\": 1028.925007681607,\n        \"min\": 0.0,\n        \"max\": 2918.0,\n        \"num_unique_values\": 8,\n        \"samples\": [\n          7.947909527073338,\n          9.0,\n          2918.0\n        ],\n        \"semantic_type\": \"\",\n        \"description\": \"\"\n      }\n    },\n    {\n      \"column\": \"Equipment_codes\",\n      \"properties\": {\n        \"dtype\": \"number\",\n        \"std\": 1030.2804107381107,\n        \"min\": 0.0,\n        \"max\": 2918.0,\n        \"num_unique_values\": 7,\n        \"samples\": [\n          2918.0,\n          4.154900616860863,\n          4.0\n        ],\n        \"semantic_type\": \"\",\n        \"description\": \"\"\n      }\n    }\n  ]\n}"
            }
          },
          "metadata": {},
          "execution_count": 99
        }
      ]
    },
    {
      "cell_type": "markdown",
      "source": [
        "Step 2: Data Cleaning\n"
      ],
      "metadata": {
        "id": "DNXG4WdzsjUP"
      }
    },
    {
      "cell_type": "code",
      "source": [
        "#indentifying missing values\n",
        "\n",
        "df = df.replace(r'^\\s*$', np.nan, regex=True)\n",
        "missing_rating_count = df['Rating'].isnull().sum()\n",
        "\n",
        "for column in df.columns:\n",
        "  missing_count = df[column].isnull().sum()\n",
        "  print(f\"Number of missing values in '{column}': {missing_count}\")\n",
        "\n"
      ],
      "metadata": {
        "colab": {
          "base_uri": "https://localhost:8080/"
        },
        "id": "Pd3LSzd7sojx",
        "outputId": "0c3fb90c-da2e-48a1-dc41-b54b95d0171f"
      },
      "execution_count": 89,
      "outputs": [
        {
          "output_type": "stream",
          "name": "stdout",
          "text": [
            "Number of missing values in '': 0\n",
            "Number of missing values in 'Title': 0\n",
            "Number of missing values in 'Desc': 1550\n",
            "Number of missing values in 'Type': 0\n",
            "Number of missing values in 'BodyPart': 0\n",
            "Number of missing values in 'Equipment': 0\n",
            "Number of missing values in 'Level': 0\n",
            "Number of missing values in 'Rating': 1887\n",
            "Number of missing values in 'RatingDesc': 2056\n"
          ]
        },
        {
          "output_type": "stream",
          "name": "stderr",
          "text": [
            "<ipython-input-89-76ea3123d72c>:1: FutureWarning: Downcasting behavior in `replace` is deprecated and will be removed in a future version. To retain the old behavior, explicitly call `result.infer_objects(copy=False)`. To opt-in to the future behavior, set `pd.set_option('future.no_silent_downcasting', True)`\n",
            "  df = df.replace(r'^\\s*$', np.nan, regex=True)\n"
          ]
        }
      ]
    },
    {
      "cell_type": "markdown",
      "source": [
        "Handling missing values:\n",
        "  there are multiple methods of handling missing values in a dataset.\n",
        "\n",
        "  1. the entire column/row as a dataset with many rows and columns will not be affected much\n",
        "  2. forward and backward fill. the same value as the above or below value can be filled in the missing value cell also.\n",
        "\n",
        "  3. with respect to filling with mean, we can fill numerical columns by using .fillna\n",
        "  4. the same can be done with median also\n",
        "  5. categorical columns can be handled with the filling of mode."
      ],
      "metadata": {
        "id": "8WRgkRruwTSJ"
      }
    },
    {
      "cell_type": "code",
      "source": [
        "columnsdelete = ['RatingDesc']\n",
        "df = df.drop(columns=columnsdelete)\n",
        "\n",
        "print(df.head())"
      ],
      "metadata": {
        "colab": {
          "base_uri": "https://localhost:8080/"
        },
        "id": "_qphL-8BGL0u",
        "outputId": "2c7b7f1e-722b-403c-d0e7-e4a379fba9ef"
      },
      "execution_count": 90,
      "outputs": [
        {
          "output_type": "stream",
          "name": "stdout",
          "text": [
            "                             Title  \\\n",
            "0  0        Partner plank band row   \n",
            "1  1  Banded crunch isometric hold   \n",
            "2  2         FYR Banded Plank Jack   \n",
            "3  3                 Banded crunch   \n",
            "4  4                        Crunch   \n",
            "\n",
            "                                                Desc      Type    BodyPart  \\\n",
            "0  The partner plank band row is an abdominal exe...  Strength  Abdominals   \n",
            "1  The banded crunch isometric hold is an exercis...  Strength  Abdominals   \n",
            "2  The banded plank jack is a variation on the pl...  Strength  Abdominals   \n",
            "3  The banded crunch is an exercise targeting the...  Strength  Abdominals   \n",
            "4  The crunch is a popular core exercise targetin...  Strength  Abdominals   \n",
            "\n",
            "  Equipment         Level  Rating  \n",
            "0     Bands  Intermediate     0.0  \n",
            "1     Bands  Intermediate     NaN  \n",
            "2     Bands  Intermediate     NaN  \n",
            "3     Bands  Intermediate     NaN  \n",
            "4     Bands  Intermediate     NaN  \n"
          ]
        }
      ]
    },
    {
      "cell_type": "code",
      "source": [
        "\n",
        "import re\n",
        "title = df['Title']\n",
        "def rename(title):\n",
        "  title = title.lower() #to lower case\n",
        "  title = title.strip() #removes whitespaces before and after title\n",
        "  title = re.sub(' +', ' ', title) # if there is more than one white space, it replaces with one white space\n",
        "  title = re.sub('[^a-zA-Z0-9 ]', ' ', title)\n",
        "  return title\n",
        "\n",
        "df['Title'] = df['Title'].apply(rename)\n",
        "print(title)\n"
      ],
      "metadata": {
        "colab": {
          "base_uri": "https://localhost:8080/"
        },
        "id": "nlh55DzUKfC1",
        "outputId": "a01e844d-2c41-4e4a-c19a-13d96ec52101"
      },
      "execution_count": 92,
      "outputs": [
        {
          "output_type": "stream",
          "name": "stdout",
          "text": [
            "0                               partner plank band row\n",
            "1                         banded crunch isometric hold\n",
            "2                                fyr banded plank jack\n",
            "3                                        banded crunch\n",
            "4                                               crunch\n",
            "                             ...                      \n",
            "2913                              ez bar skullcrusher \n",
            "2914    lying close grip barbell triceps press to chin\n",
            "2915            ez bar skullcrusher   gethin variation\n",
            "2916                                  tbs skullcrusher\n",
            "2917                       30 arms ez bar skullcrusher\n",
            "Name: Title, Length: 2918, dtype: object\n"
          ]
        }
      ]
    },
    {
      "cell_type": "markdown",
      "source": [
        "to find the top 5 most frequent exercises we must check the most frequently occuring cell in the first column. this can be done by calculating the value counts"
      ],
      "metadata": {
        "id": "sbmOQfZUQxlr"
      }
    },
    {
      "cell_type": "code",
      "source": [
        "import matplotlib.pyplot as plt\n",
        "\n",
        "count = df['Title'].value_counts(ascending=False)\n",
        "\n",
        "x1 = [1, 2, 3, 4, 5]\n",
        "\n",
        "topvalues = count.index[:5]\n",
        "topcounts = count.iloc[:5]\n",
        "\n",
        "plt.bar(topvalues, topcounts, color='b')\n",
        "\n",
        "for i  in range(min(5, len(count))):\n",
        "\n",
        "  value = count.index[i]\n",
        "  print(f\"{i+1}. {value}: {count[value]}\")"
      ],
      "metadata": {
        "colab": {
          "base_uri": "https://localhost:8080/",
          "height": 519
        },
        "id": "r1fRYI8-RBYy",
        "outputId": "70c6ace7-c1aa-449d-c5ba-edfe9fd8351e"
      },
      "execution_count": 93,
      "outputs": [
        {
          "output_type": "stream",
          "name": "stdout",
          "text": [
            "1. band suspended kettlebell bench press: 3\n",
            "2. seated cable rows: 3\n",
            "3. double kettlebell push press: 2\n",
            "4. single arm dumbbell snatch: 2\n",
            "5. barbell curl: 2\n"
          ]
        },
        {
          "output_type": "display_data",
          "data": {
            "text/plain": [
              "<Figure size 640x480 with 1 Axes>"
            ],
            "image/png": "[encoded data removed]"
          },
          "metadata": {}
        }
      ]
    },
    {
      "cell_type": "code",
      "source": [
        "df['BodyPart'] = df['BodyPart'].astype('category')\n",
        "df['BodyPartcodes'] = df['BodyPart'].cat.codes\n",
        "\n",
        "df['Equipment'] = df['Equipment'].astype('category')\n",
        "df['Equipmentcodes'] = df['Equipment'].cat.codes\n",
        "\n",
        "# View the converted DataFrame\n",
        "print(df)"
      ],
      "metadata": {
        "colab": {
          "base_uri": "https://localhost:8080/"
        },
        "id": "45hbIsQbV1Km",
        "outputId": "0110c45e-a516-492e-8dfb-4ba44957a9ae"
      },
      "execution_count": 94,
      "outputs": [
        {
          "output_type": "stream",
          "name": "stdout",
          "text": [
            "                                                     Title  \\\n",
            "0        0                          partner plank band row   \n",
            "1        1                    banded crunch isometric hold   \n",
            "2        2                           fyr banded plank jack   \n",
            "3        3                                   banded crunch   \n",
            "4        4                                          crunch   \n",
            "...    ...                                             ...   \n",
            "2913  2913                             ez bar skullcrusher   \n",
            "2914  2914  lying close grip barbell triceps press to chin   \n",
            "2915  2915            ez bar skullcrusher gethin variation   \n",
            "2916  2916                                tbs skullcrusher   \n",
            "2917  2917                     30 arms ez bar skullcrusher   \n",
            "\n",
            "                                                   Desc      Type    BodyPart  \\\n",
            "0     The partner plank band row is an abdominal exe...  Strength  Abdominals   \n",
            "1     The banded crunch isometric hold is an exercis...  Strength  Abdominals   \n",
            "2     The banded plank jack is a variation on the pl...  Strength  Abdominals   \n",
            "3     The banded crunch is an exercise targeting the...  Strength  Abdominals   \n",
            "4     The crunch is a popular core exercise targetin...  Strength  Abdominals   \n",
            "...                                                 ...       ...         ...   \n",
            "2913  The EZ-bar skullcrusher is a popular exercise ...  Strength     Triceps   \n",
            "2914                                                NaN  Strength     Triceps   \n",
            "2915  The EZ-bar skullcrusher is a popular exercise ...  Strength     Triceps   \n",
            "2916  The EZ-bar skullcrusher is a popular exercise ...  Strength     Triceps   \n",
            "2917                                                NaN  Strength     Triceps   \n",
            "\n",
            "         Equipment         Level  Rating  BodyPart_codes  Equipment_codes  \n",
            "0            Bands  Intermediate     0.0               0                0  \n",
            "1            Bands  Intermediate     NaN               0                0  \n",
            "2            Bands  Intermediate     NaN               0                0  \n",
            "3            Bands  Intermediate     NaN               0                0  \n",
            "4            Bands  Intermediate     NaN               0                0  \n",
            "...            ...           ...     ...             ...              ...  \n",
            "2913  E-Z Curl Bar  Intermediate     8.1              16                5  \n",
            "2914  E-Z Curl Bar      Beginner     8.1              16                5  \n",
            "2915  E-Z Curl Bar  Intermediate     NaN              16                5  \n",
            "2916  E-Z Curl Bar  Intermediate     NaN              16                5  \n",
            "2917  E-Z Curl Bar  Intermediate     NaN              16                5  \n",
            "\n",
            "[2918 rows x 10 columns]\n"
          ]
        }
      ]
    },
    {
      "cell_type": "code",
      "source": [
        "#nunique can be used to identify the number of unique values\n",
        "\n",
        "unique = df['BodyPart'].nunique()\n",
        "print(f\"Number of unique values in '{'BodyPart'}': {unique}\")\n",
        "\n",
        "\n",
        "unique = df['Equipment'].nunique()\n",
        "print(f\"Number of unique values in '{'Equipment'}': {unique}\")\n"
      ],
      "metadata": {
        "colab": {
          "base_uri": "https://localhost:8080/"
        },
        "id": "d7t4pfmracQo",
        "outputId": "3076dfcb-f521-43a2-a30d-089db0d84d9f"
      },
      "execution_count": null,
      "outputs": [
        {
          "output_type": "stream",
          "name": "stdout",
          "text": [
            "Number of unique values in 'BodyPart': 17\n",
            "Number of unique values in 'Equipment': 13\n"
          ]
        }
      ]
    },
    {
      "cell_type": "code",
      "source": [],
      "metadata": {
        "id": "iv2ZoXNeftl1"
      },
      "execution_count": null,
      "outputs": []
    },
    {
      "cell_type": "code",
      "source": [
        "# finding the highest value in the Rating column and printing the corresponding row\n",
        "\n",
        "highest = df['Rating'].idxmax()\n",
        "\n",
        "highestrow = df.loc[highest]\n",
        "print(highestrow)"
      ],
      "metadata": {
        "colab": {
          "base_uri": "https://localhost:8080/"
        },
        "id": "mKPC5dIidx9p",
        "outputId": "21ccb3eb-ba73-4c2a-bca2-7993dd29ff1f"
      },
      "execution_count": null,
      "outputs": [
        {
          "output_type": "stream",
          "name": "stdout",
          "text": [
            "                                                             0\n",
            "Title                                      partnerplankbandrow\n",
            "Desc         The partner plank band row is an abdominal exe...\n",
            "Type                                                  Strength\n",
            "BodyPart                                            Abdominals\n",
            "Equipment                                                Bands\n",
            "Level                                             Intermediate\n",
            "Rating                                      51967063516.799995\n",
            "Name: 0, dtype: object\n"
          ]
        }
      ]
    },
    {
      "cell_type": "markdown",
      "source": [
        "**CLUSTERING**\n",
        "\n",
        "in Kmeans method"
      ],
      "metadata": {
        "id": "opbnyVTyx2B5"
      }
    },
    {
      "cell_type": "code",
      "source": [
        "import random\n",
        "\n",
        "rating = df['Rating']\n",
        "\n",
        "#threshold = random.uniform(rating.min(), rating.max())\n",
        "\n",
        "ratingthreshold = 7.5\n",
        "highlevel = 'Expert'\n",
        "lowlevel = 'Beginner'\n",
        "\n",
        "HH = rating[(rating > ratingthreshold) & (df['Level'] == highlevel)]\n",
        "LH = rating[(rating < ratingthreshold) & (df['Level'] == highlevel)]\n",
        "LL = rating[(rating < ratingthreshold) & (df['Level'] == lowlevel)]\n",
        "HL = rating[(rating > ratingthreshold) & (df['Level'] == lowlevel)]\n",
        "\n",
        "c1 = 1\n",
        "c2 = 1\n",
        "c3 = 1\n",
        "c4 = 1\n",
        "\n",
        "# Check if the Dataframes are empty before sampling\n",
        "if len(HH) < c1:\n",
        "    c1 = len(HH)  # Adjust sample size if necessary\n",
        "if len(LH) < c2:\n",
        "    c2 = len(LH)\n",
        "if len(LL) < c3:\n",
        "    c3 = len(LL)\n",
        "if len(HL) < c4:\n",
        "    c4 = len(HL)\n",
        "\n",
        "#Only sample if the population size is bigger than 0\n",
        "first = random.sample(list(HH), c1) if len(HH) > 0 else []\n",
        "second = random.sample(list(LH), c2) if len(LH) > 0 else []\n",
        "third = random.sample(list(LL), c3) if len(LL) > 0 else []\n",
        "fourth = random.sample(list(HL), c4) if len(HL) > 0 else []\n",
        "\n",
        "\n",
        "print(\"Cluster 1:\", first)\n",
        "print(\"Cluster 2:\", second)\n",
        "print(\"Cluster 3:\", third)\n",
        "print(\"Cluster 4:\", fourth)"
      ],
      "metadata": {
        "id": "ZaI-7NMSx5N7",
        "colab": {
          "base_uri": "https://localhost:8080/"
        },
        "outputId": "9eb9cbe3-2389-41dd-e8e5-02b409188a47"
      },
      "execution_count": 96,
      "outputs": [
        {
          "output_type": "stream",
          "name": "stdout",
          "text": [
            "Cluster 1: [9.0]\n",
            "Cluster 2: [7.0]\n",
            "Cluster 3: [0.0]\n",
            "Cluster 4: [8.1]\n"
          ]
        }
      ]
    },
    {
      "cell_type": "code",
      "source": [
        "import random\n",
        "import matplotlib.pyplot as plt\n",
        "\n",
        "rating = df['Rating']\n",
        "\n",
        "#threshold = random.uniform(rating.min(), rating.max())\n",
        "\n",
        "ratingthreshold = 8\n",
        "highlevel = 'Expert'\n",
        "lowlevel = 'Beginner'\n",
        "\n",
        "HH = rating[(rating > ratingthreshold) & (df['Level'] == highlevel)]\n",
        "LH = rating[(rating < ratingthreshold) & (df['Level'] == highlevel)]\n",
        "LL = rating[(rating < ratingthreshold) & (df['Level'] == lowlevel)]\n",
        "HL = rating[(rating > ratingthreshold) & (df['Level'] == lowlevel)]\n",
        "\n",
        "# Plotting the clusters directly (no sampling)\n",
        "plt.figure(figsize=(8, 6))\n",
        "\n",
        "# Create x-axis values for plotting (arbitrary since we only have 'Rating')\n",
        "x1 = [1] * len(HH)\n",
        "x2 = [2] * len(LH)\n",
        "x3 = [3] * len(LL)\n",
        "x4 = [4] * len(HL)\n",
        "\n",
        "plt.scatter(x1, HH, color='red', label='Cluster 1 (HH)')\n",
        "plt.scatter(x2, LH, color='blue', label='Cluster 2 (LH)')\n",
        "plt.scatter(x3, LL, color='green', label='Cluster 3 (LL)')\n",
        "plt.scatter(x4, HL, color='orange', label='Cluster 4 (HL)')\n",
        "\n",
        "plt.xlabel('Cluster')\n",
        "plt.ylabel('Rating')\n",
        "plt.title('Clustering of Exercises')\n",
        "plt.xticks([1, 2, 3, 4], ['HH', 'LH', 'LL', 'HL'])  # Set x-axis labels\n",
        "plt.legend()\n",
        "plt.show()"
      ],
      "metadata": {
        "id": "Y_AHqfLANOWW",
        "colab": {
          "base_uri": "https://localhost:8080/",
          "height": 564
        },
        "outputId": "68e8a420-d21b-426e-869f-1d3871fe667a"
      },
      "execution_count": 97,
      "outputs": [
        {
          "output_type": "display_data",
          "data": {
            "text/plain": [
              "<Figure size 800x600 with 1 Axes>"
            ],
            "image/png": "[encoded data removed]"
          },
          "metadata": {}
        }
      ]
    },
    {
      "cell_type": "markdown",
      "source": [
        "# A LITTLE EXTRA ANALYSIS"
      ],
      "metadata": {
        "id": "jFqKBbHwGqgs"
      }
    },
    {
      "cell_type": "code",
      "source": [
        "level = input('Beginner, Intermediate, Expert: ');\n",
        "ratingi = input('High or Low: ')\n",
        "\n",
        "\n",
        "rating = df['Rating']\n",
        "\n",
        "if (ratingi == 'High'):\n",
        "  rating > ratingthreshold\n",
        "\n",
        "if (ratingi == 'Low'):\n",
        "  rating < ratingthreshold\n",
        "\n",
        "HI = rating[(rating > ratingthreshold) & (df['Level'] == 'Intermediate')]\n",
        "LI = rating[(rating < ratingthreshold) & (df['Level'] == 'Intermediate')]\n",
        "\n",
        "#print(\"showing results... for:\" + level + \"and\" + rating)\n",
        "\n",
        "if ((level == 'Beginner') & (ratingi == 'High')):\n",
        "    print(LH)\n",
        "\n",
        "if ((level == 'Beginner') & (ratingi == 'Low')):\n",
        "    print(LL)\n",
        "\n",
        "if ((level == 'Expert') & (ratingi == 'Low')):\n",
        "    print(HL)\n",
        "\n",
        "if ((level == 'Expert') & (ratingi == 'High')):\n",
        "    print(HH)\n",
        "\n",
        "if ((level == 'Intermediate') & (ratingi == 'Low')):\n",
        "    print(LH)\n",
        "\n",
        "if ((level == 'Intermediate') & (ratingi == 'High')):\n",
        "    print(HI)\n",
        "\n",
        "if ((level == 'Intermediate') & (ratingi == 'Low')):\n",
        "    print(LI)\n",
        "\n",
        "\n"
      ],
      "metadata": {
        "id": "Eudp2F36VzV1"
      },
      "execution_count": null,
      "outputs": []
    },
    {
      "cell_type": "code",
      "source": [
        "import pandas as pd\n",
        "data = sheet.get_all_records()\n",
        "\n",
        "df = pd.DataFrame(data)\n",
        "df['Rating'] = pd.to_numeric(df['Rating'], errors='coerce')\n",
        "df = df.dropna(subset=['Rating'])\n",
        "\n",
        "print(df['Rating'])\n",
        "averageratingtitle = df.groupby('Title')['Rating'].mean()\n",
        "\n",
        "maxrating = averageratingtitle.max()\n",
        "\n",
        "exercisemaxrating = averageratingtitle[averageratingtitle == max_rating].index[0]\n",
        "\n",
        "print(averageratingtitle)\n",
        "\n",
        "\n",
        "print(\"the max average is of: \", exercisemaxrating, maxrating)"
      ],
      "metadata": {
        "id": "otv3zZUNGpVY"
      },
      "execution_count": null,
      "outputs": []
    },
    {
      "cell_type": "code",
      "source": [
        "Ptable = pd.pivot_table(\n",
        "    df, values=['Rating'], index=['Title', 'RatingDesc'], columns='Level', aggfunc='mean', fill_value=0\n",
        ")\n",
        "print(Ptable)\n"
      ],
      "metadata": {
        "id": "E3A_si2MG1L3"
      },
      "execution_count": null,
      "outputs": []
    },
    {
      "cell_type": "code",
      "source": [
        "#it only makes sense to first identify which exercises are rated and which arent so:\n",
        "rated = df[df['Rating'].notna()]\n",
        "\n",
        "#now we will have to group the exercises based on bodypart\n",
        "count = rated.groupby('BodyPart')['Title'].count().sort_values(ascending = False)\n",
        "\n",
        "print(count)\n"
      ],
      "metadata": {
        "id": "vwulnrZAViTj"
      },
      "execution_count": null,
      "outputs": []
    },
    {
      "cell_type": "markdown",
      "source": [
        "# **ANALYSIS SUMMARY**\n",
        "\n",
        "The Gym Dataset was analysed at different stages using an array of operations such as sorting, plotting, adding, and finding extended description of each column's numerical data. In summary, the first managed to clean my data and remove the last column as it had a large amount of empty cells interfering with other data calculations. Consequently, renaming and formatting of the dataset was also done to later receive queries from a potential user.\n",
        "\n",
        "\n",
        "Based on your analysis, propose a data-driven recommendation system for gym-goers. Which exercises would you recommend and why?\n",
        "\n",
        "\n",
        "As a bonus, I have included a query system for potential gym-goers to enter their requirements and receive recommendations. Apart from this, we can also judge based on rating and rating description as I have done in the previous code cells."
      ],
      "metadata": {
        "id": "PPckhmDlWon0"
      }
    }
  ]
}